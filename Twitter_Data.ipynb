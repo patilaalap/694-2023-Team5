{
 "cells": [
  {
   "cell_type": "code",
   "execution_count": 2,
   "id": "5785b7f8",
   "metadata": {},
   "outputs": [],
   "source": [
    "import json\n",
    "import requests\n",
    "import pandas as pd\n",
    "from tinydb import TinyDB, Query, table"
   ]
  },
  {
   "cell_type": "code",
   "execution_count": 4,
   "id": "b61d92f5",
   "metadata": {},
   "outputs": [],
   "source": [
    "covid = pd.read_json('corona-out-3',lines = True)"
   ]
  },
  {
   "cell_type": "code",
   "execution_count": 6,
   "id": "91ee1714",
   "metadata": {},
   "outputs": [
    {
     "name": "stdout",
     "output_type": "stream",
     "text": [
      "<class 'pandas.core.frame.DataFrame'>\n",
      "RangeIndex: 101916 entries, 0 to 101915\n",
      "Data columns (total 37 columns):\n",
      " #   Column                     Non-Null Count   Dtype              \n",
      "---  ------                     --------------   -----              \n",
      " 0   created_at                 101916 non-null  datetime64[ns, UTC]\n",
      " 1   id                         101916 non-null  int64              \n",
      " 2   id_str                     101916 non-null  int64              \n",
      " 3   text                       101916 non-null  object             \n",
      " 4   display_text_range         18124 non-null   object             \n",
      " 5   source                     101916 non-null  object             \n",
      " 6   truncated                  101916 non-null  bool               \n",
      " 7   in_reply_to_status_id      13610 non-null   float64            \n",
      " 8   in_reply_to_status_id_str  13610 non-null   float64            \n",
      " 9   in_reply_to_user_id        14855 non-null   float64            \n",
      " 10  in_reply_to_user_id_str    14855 non-null   float64            \n",
      " 11  in_reply_to_screen_name    14855 non-null   object             \n",
      " 12  user                       101916 non-null  object             \n",
      " 13  geo                        77 non-null      object             \n",
      " 14  coordinates                77 non-null      object             \n",
      " 15  place                      1371 non-null    object             \n",
      " 16  contributors               0 non-null       float64            \n",
      " 17  is_quote_status            101916 non-null  bool               \n",
      " 18  quote_count                101916 non-null  int64              \n",
      " 19  reply_count                101916 non-null  int64              \n",
      " 20  retweet_count              101916 non-null  int64              \n",
      " 21  favorite_count             101916 non-null  int64              \n",
      " 22  entities                   101916 non-null  object             \n",
      " 23  extended_entities          7267 non-null    object             \n",
      " 24  favorited                  101916 non-null  bool               \n",
      " 25  retweeted                  101916 non-null  bool               \n",
      " 26  possibly_sensitive         27433 non-null   float64            \n",
      " 27  filter_level               101916 non-null  object             \n",
      " 28  lang                       101916 non-null  object             \n",
      " 29  timestamp_ms               101916 non-null  datetime64[ns]     \n",
      " 30  retweeted_status           61101 non-null   object             \n",
      " 31  quoted_status_id           16129 non-null   float64            \n",
      " 32  quoted_status_id_str       16129 non-null   float64            \n",
      " 33  quoted_status              16123 non-null   object             \n",
      " 34  quoted_status_permalink    16123 non-null   object             \n",
      " 35  extended_tweet             17760 non-null   object             \n",
      " 36  withheld_in_countries      46 non-null      object             \n",
      "dtypes: bool(4), datetime64[ns, UTC](1), datetime64[ns](1), float64(8), int64(6), object(17)\n",
      "memory usage: 26.0+ MB\n"
     ]
    }
   ],
   "source": [
    "covid.info()"
   ]
  },
  {
   "cell_type": "code",
   "execution_count": 38,
   "id": "33767c10",
   "metadata": {
    "scrolled": true
   },
   "outputs": [
    {
     "data": {
      "text/html": [
       "<div>\n",
       "<style scoped>\n",
       "    .dataframe tbody tr th:only-of-type {\n",
       "        vertical-align: middle;\n",
       "    }\n",
       "\n",
       "    .dataframe tbody tr th {\n",
       "        vertical-align: top;\n",
       "    }\n",
       "\n",
       "    .dataframe thead th {\n",
       "        text-align: right;\n",
       "    }\n",
       "</style>\n",
       "<table border=\"1\" class=\"dataframe\">\n",
       "  <thead>\n",
       "    <tr style=\"text-align: right;\">\n",
       "      <th></th>\n",
       "      <th>created_at</th>\n",
       "      <th>id</th>\n",
       "      <th>id_str</th>\n",
       "      <th>text</th>\n",
       "      <th>display_text_range</th>\n",
       "      <th>source</th>\n",
       "      <th>truncated</th>\n",
       "      <th>in_reply_to_status_id</th>\n",
       "      <th>in_reply_to_status_id_str</th>\n",
       "      <th>in_reply_to_user_id</th>\n",
       "      <th>...</th>\n",
       "      <th>filter_level</th>\n",
       "      <th>lang</th>\n",
       "      <th>timestamp_ms</th>\n",
       "      <th>retweeted_status</th>\n",
       "      <th>quoted_status_id</th>\n",
       "      <th>quoted_status_id_str</th>\n",
       "      <th>quoted_status</th>\n",
       "      <th>quoted_status_permalink</th>\n",
       "      <th>extended_tweet</th>\n",
       "      <th>withheld_in_countries</th>\n",
       "    </tr>\n",
       "  </thead>\n",
       "  <tbody>\n",
       "    <tr>\n",
       "      <th>0</th>\n",
       "      <td>2020-04-25 12:21:41+00:00</td>\n",
       "      <td>1254022770679320576</td>\n",
       "      <td>1254022770679320576</td>\n",
       "      <td>É isto, ou vou morrer sem ar ou com o corona h...</td>\n",
       "      <td>[0, 44]</td>\n",
       "      <td>&lt;a href=\"http://twitter.com/download/android\" ...</td>\n",
       "      <td>False</td>\n",
       "      <td>NaN</td>\n",
       "      <td>NaN</td>\n",
       "      <td>NaN</td>\n",
       "      <td>...</td>\n",
       "      <td>low</td>\n",
       "      <td>pt</td>\n",
       "      <td>2020-04-25 12:21:41.803</td>\n",
       "      <td>NaN</td>\n",
       "      <td>NaN</td>\n",
       "      <td>NaN</td>\n",
       "      <td>NaN</td>\n",
       "      <td>NaN</td>\n",
       "      <td>NaN</td>\n",
       "      <td>NaN</td>\n",
       "    </tr>\n",
       "    <tr>\n",
       "      <th>1</th>\n",
       "      <td>2020-04-25 12:21:41+00:00</td>\n",
       "      <td>1254022770746372096</td>\n",
       "      <td>1254022770746372096</td>\n",
       "      <td>Schöne Runde mit dem Rennrad ✌️\\n#sport #coron...</td>\n",
       "      <td>[0, 46]</td>\n",
       "      <td>&lt;a href=\"http://twitter.com/download/iphone\" r...</td>\n",
       "      <td>False</td>\n",
       "      <td>NaN</td>\n",
       "      <td>NaN</td>\n",
       "      <td>NaN</td>\n",
       "      <td>...</td>\n",
       "      <td>low</td>\n",
       "      <td>de</td>\n",
       "      <td>2020-04-25 12:21:41.819</td>\n",
       "      <td>NaN</td>\n",
       "      <td>NaN</td>\n",
       "      <td>NaN</td>\n",
       "      <td>NaN</td>\n",
       "      <td>NaN</td>\n",
       "      <td>NaN</td>\n",
       "      <td>NaN</td>\n",
       "    </tr>\n",
       "    <tr>\n",
       "      <th>2</th>\n",
       "      <td>2020-04-25 12:21:42+00:00</td>\n",
       "      <td>1254022772558368768</td>\n",
       "      <td>1254022772558368768</td>\n",
       "      <td>RT @BJP4India: India’s war with Corona is ongo...</td>\n",
       "      <td>NaN</td>\n",
       "      <td>&lt;a href=\"http://twitter.com/download/android\" ...</td>\n",
       "      <td>False</td>\n",
       "      <td>NaN</td>\n",
       "      <td>NaN</td>\n",
       "      <td>NaN</td>\n",
       "      <td>...</td>\n",
       "      <td>low</td>\n",
       "      <td>en</td>\n",
       "      <td>2020-04-25 12:21:42.251</td>\n",
       "      <td>{'created_at': 'Sat Apr 25 07:30:12 +0000 2020...</td>\n",
       "      <td>NaN</td>\n",
       "      <td>NaN</td>\n",
       "      <td>NaN</td>\n",
       "      <td>NaN</td>\n",
       "      <td>NaN</td>\n",
       "      <td>NaN</td>\n",
       "    </tr>\n",
       "    <tr>\n",
       "      <th>3</th>\n",
       "      <td>2020-04-25 12:21:42+00:00</td>\n",
       "      <td>1254022772575043586</td>\n",
       "      <td>1254022772575043584</td>\n",
       "      <td>Was sollen 150 Euro Computerzuschuss bringen? ...</td>\n",
       "      <td>NaN</td>\n",
       "      <td>&lt;a href=\"https://mobile.twitter.com\" rel=\"nofo...</td>\n",
       "      <td>True</td>\n",
       "      <td>NaN</td>\n",
       "      <td>NaN</td>\n",
       "      <td>NaN</td>\n",
       "      <td>...</td>\n",
       "      <td>low</td>\n",
       "      <td>de</td>\n",
       "      <td>2020-04-25 12:21:42.255</td>\n",
       "      <td>NaN</td>\n",
       "      <td>1.254016e+18</td>\n",
       "      <td>1.254016e+18</td>\n",
       "      <td>{'created_at': 'Sat Apr 25 11:56:31 +0000 2020...</td>\n",
       "      <td>{'url': 'https://t.co/xn4jgGqfoY', 'expanded':...</td>\n",
       "      <td>{'full_text': 'Was sollen 150 Euro Computerzus...</td>\n",
       "      <td>NaN</td>\n",
       "    </tr>\n",
       "    <tr>\n",
       "      <th>4</th>\n",
       "      <td>2020-04-25 12:21:42+00:00</td>\n",
       "      <td>1254022772877131777</td>\n",
       "      <td>1254022772877131776</td>\n",
       "      <td>RT @schrodingerk42: @ozkan_yalim @DurmusYillma...</td>\n",
       "      <td>NaN</td>\n",
       "      <td>&lt;a href=\"http://twitter.com/download/android\" ...</td>\n",
       "      <td>False</td>\n",
       "      <td>NaN</td>\n",
       "      <td>NaN</td>\n",
       "      <td>NaN</td>\n",
       "      <td>...</td>\n",
       "      <td>low</td>\n",
       "      <td>tr</td>\n",
       "      <td>2020-04-25 12:21:42.327</td>\n",
       "      <td>{'created_at': 'Tue Apr 21 12:34:00 +0000 2020...</td>\n",
       "      <td>NaN</td>\n",
       "      <td>NaN</td>\n",
       "      <td>NaN</td>\n",
       "      <td>NaN</td>\n",
       "      <td>NaN</td>\n",
       "      <td>NaN</td>\n",
       "    </tr>\n",
       "  </tbody>\n",
       "</table>\n",
       "<p>5 rows × 37 columns</p>\n",
       "</div>"
      ],
      "text/plain": [
       "                 created_at                   id               id_str  \\\n",
       "0 2020-04-25 12:21:41+00:00  1254022770679320576  1254022770679320576   \n",
       "1 2020-04-25 12:21:41+00:00  1254022770746372096  1254022770746372096   \n",
       "2 2020-04-25 12:21:42+00:00  1254022772558368768  1254022772558368768   \n",
       "3 2020-04-25 12:21:42+00:00  1254022772575043586  1254022772575043584   \n",
       "4 2020-04-25 12:21:42+00:00  1254022772877131777  1254022772877131776   \n",
       "\n",
       "                                                text display_text_range  \\\n",
       "0  É isto, ou vou morrer sem ar ou com o corona h...            [0, 44]   \n",
       "1  Schöne Runde mit dem Rennrad ✌️\\n#sport #coron...            [0, 46]   \n",
       "2  RT @BJP4India: India’s war with Corona is ongo...                NaN   \n",
       "3  Was sollen 150 Euro Computerzuschuss bringen? ...                NaN   \n",
       "4  RT @schrodingerk42: @ozkan_yalim @DurmusYillma...                NaN   \n",
       "\n",
       "                                              source  truncated  \\\n",
       "0  <a href=\"http://twitter.com/download/android\" ...      False   \n",
       "1  <a href=\"http://twitter.com/download/iphone\" r...      False   \n",
       "2  <a href=\"http://twitter.com/download/android\" ...      False   \n",
       "3  <a href=\"https://mobile.twitter.com\" rel=\"nofo...       True   \n",
       "4  <a href=\"http://twitter.com/download/android\" ...      False   \n",
       "\n",
       "   in_reply_to_status_id  in_reply_to_status_id_str  in_reply_to_user_id  ...  \\\n",
       "0                    NaN                        NaN                  NaN  ...   \n",
       "1                    NaN                        NaN                  NaN  ...   \n",
       "2                    NaN                        NaN                  NaN  ...   \n",
       "3                    NaN                        NaN                  NaN  ...   \n",
       "4                    NaN                        NaN                  NaN  ...   \n",
       "\n",
       "   filter_level lang            timestamp_ms  \\\n",
       "0           low   pt 2020-04-25 12:21:41.803   \n",
       "1           low   de 2020-04-25 12:21:41.819   \n",
       "2           low   en 2020-04-25 12:21:42.251   \n",
       "3           low   de 2020-04-25 12:21:42.255   \n",
       "4           low   tr 2020-04-25 12:21:42.327   \n",
       "\n",
       "                                    retweeted_status quoted_status_id  \\\n",
       "0                                                NaN              NaN   \n",
       "1                                                NaN              NaN   \n",
       "2  {'created_at': 'Sat Apr 25 07:30:12 +0000 2020...              NaN   \n",
       "3                                                NaN     1.254016e+18   \n",
       "4  {'created_at': 'Tue Apr 21 12:34:00 +0000 2020...              NaN   \n",
       "\n",
       "  quoted_status_id_str                                      quoted_status  \\\n",
       "0                  NaN                                                NaN   \n",
       "1                  NaN                                                NaN   \n",
       "2                  NaN                                                NaN   \n",
       "3         1.254016e+18  {'created_at': 'Sat Apr 25 11:56:31 +0000 2020...   \n",
       "4                  NaN                                                NaN   \n",
       "\n",
       "                             quoted_status_permalink  \\\n",
       "0                                                NaN   \n",
       "1                                                NaN   \n",
       "2                                                NaN   \n",
       "3  {'url': 'https://t.co/xn4jgGqfoY', 'expanded':...   \n",
       "4                                                NaN   \n",
       "\n",
       "                                      extended_tweet  withheld_in_countries  \n",
       "0                                                NaN                    NaN  \n",
       "1                                                NaN                    NaN  \n",
       "2                                                NaN                    NaN  \n",
       "3  {'full_text': 'Was sollen 150 Euro Computerzus...                    NaN  \n",
       "4                                                NaN                    NaN  \n",
       "\n",
       "[5 rows x 37 columns]"
      ]
     },
     "execution_count": 38,
     "metadata": {},
     "output_type": "execute_result"
    }
   ],
   "source": [
    "covid.head()"
   ]
  },
  {
   "cell_type": "code",
   "execution_count": 28,
   "id": "0ae4c757",
   "metadata": {},
   "outputs": [
    {
     "data": {
      "text/plain": [
       "140"
      ]
     },
     "execution_count": 28,
     "metadata": {},
     "output_type": "execute_result"
    }
   ],
   "source": [
    "len(covid['text'].iloc[3])"
   ]
  },
  {
   "cell_type": "code",
   "execution_count": 55,
   "id": "894f5f26",
   "metadata": {},
   "outputs": [
    {
     "data": {
      "text/plain": [
       "0                                                  NaN\n",
       "1                                                  NaN\n",
       "2    {'created_at': 'Sat Apr 25 07:30:12 +0000 2020...\n",
       "3                                                  NaN\n",
       "4    {'created_at': 'Tue Apr 21 12:34:00 +0000 2020...\n",
       "Name: retweeted_status, dtype: object"
      ]
     },
     "execution_count": 55,
     "metadata": {},
     "output_type": "execute_result"
    }
   ],
   "source": [
    "covid['retweeted_status'].head()"
   ]
  },
  {
   "cell_type": "code",
   "execution_count": 48,
   "id": "317bc687",
   "metadata": {},
   "outputs": [],
   "source": [
    "users = pd.DataFrame(covid['user'])"
   ]
  },
  {
   "cell_type": "code",
   "execution_count": 40,
   "id": "5c5a0226",
   "metadata": {},
   "outputs": [
    {
     "data": {
      "text/html": [
       "<div>\n",
       "<style scoped>\n",
       "    .dataframe tbody tr th:only-of-type {\n",
       "        vertical-align: middle;\n",
       "    }\n",
       "\n",
       "    .dataframe tbody tr th {\n",
       "        vertical-align: top;\n",
       "    }\n",
       "\n",
       "    .dataframe thead th {\n",
       "        text-align: right;\n",
       "    }\n",
       "</style>\n",
       "<table border=\"1\" class=\"dataframe\">\n",
       "  <thead>\n",
       "    <tr style=\"text-align: right;\">\n",
       "      <th></th>\n",
       "      <th>user</th>\n",
       "    </tr>\n",
       "  </thead>\n",
       "  <tbody>\n",
       "    <tr>\n",
       "      <th>0</th>\n",
       "      <td>{'id': 804046791348015107, 'id_str': '80404679...</td>\n",
       "    </tr>\n",
       "    <tr>\n",
       "      <th>1</th>\n",
       "      <td>{'id': 2242948745, 'id_str': '2242948745', 'na...</td>\n",
       "    </tr>\n",
       "    <tr>\n",
       "      <th>2</th>\n",
       "      <td>{'id': 908326492718764034, 'id_str': '90832649...</td>\n",
       "    </tr>\n",
       "    <tr>\n",
       "      <th>3</th>\n",
       "      <td>{'id': 2929344220, 'id_str': '2929344220', 'na...</td>\n",
       "    </tr>\n",
       "    <tr>\n",
       "      <th>4</th>\n",
       "      <td>{'id': 1206650133976408064, 'id_str': '1206650...</td>\n",
       "    </tr>\n",
       "  </tbody>\n",
       "</table>\n",
       "</div>"
      ],
      "text/plain": [
       "                                                user\n",
       "0  {'id': 804046791348015107, 'id_str': '80404679...\n",
       "1  {'id': 2242948745, 'id_str': '2242948745', 'na...\n",
       "2  {'id': 908326492718764034, 'id_str': '90832649...\n",
       "3  {'id': 2929344220, 'id_str': '2929344220', 'na...\n",
       "4  {'id': 1206650133976408064, 'id_str': '1206650..."
      ]
     },
     "execution_count": 40,
     "metadata": {},
     "output_type": "execute_result"
    }
   ],
   "source": [
    "users.head()"
   ]
  },
  {
   "cell_type": "code",
   "execution_count": 60,
   "id": "f820cbaa",
   "metadata": {
    "scrolled": true
   },
   "outputs": [
    {
     "name": "stdout",
     "output_type": "stream",
     "text": [
      "id: 1206650133976408064\n",
      "id_str: 1206650133976408064\n",
      "name: Büşra Öztaş\n",
      "screen_name: schrodingerk42\n",
      "location: None\n",
      "url: None\n",
      "description: None\n",
      "translator_type: none\n",
      "protected: False\n",
      "verified: False\n",
      "followers_count: 318\n",
      "friends_count: 220\n",
      "listed_count: 0\n",
      "favourites_count: 1974\n",
      "statuses_count: 405\n",
      "created_at: Mon Dec 16 18:59:53 +0000 2019\n",
      "utc_offset: None\n",
      "time_zone: None\n",
      "geo_enabled: False\n",
      "lang: None\n",
      "contributors_enabled: False\n",
      "is_translator: False\n",
      "profile_background_color: F5F8FA\n",
      "profile_background_image_url: \n",
      "profile_background_image_url_https: \n",
      "profile_background_tile: False\n",
      "profile_link_color: 1DA1F2\n",
      "profile_sidebar_border_color: C0DEED\n",
      "profile_sidebar_fill_color: DDEEF6\n",
      "profile_text_color: 333333\n",
      "profile_use_background_image: True\n",
      "profile_image_url: http://pbs.twimg.com/profile_images/1252587987864616962/YHmt6u8v_normal.jpg\n",
      "profile_image_url_https: https://pbs.twimg.com/profile_images/1252587987864616962/YHmt6u8v_normal.jpg\n",
      "profile_banner_url: https://pbs.twimg.com/profile_banners/1206650133976408064/1580601960\n",
      "default_profile: True\n",
      "default_profile_image: False\n",
      "following: None\n",
      "follow_request_sent: None\n",
      "notifications: None\n"
     ]
    }
   ],
   "source": [
    "x = covid['user'][4]\n",
    "for i in x.keys():\n",
    "    print(i, end=': ')\n",
    "    print(x[i])"
   ]
  },
  {
   "cell_type": "code",
   "execution_count": 51,
   "id": "9316de5d",
   "metadata": {},
   "outputs": [
    {
     "data": {
      "text/plain": [
       "101916"
      ]
     },
     "execution_count": 51,
     "metadata": {},
     "output_type": "execute_result"
    }
   ],
   "source": []
  },
  {
   "cell_type": "code",
   "execution_count": null,
   "id": "19fb5618",
   "metadata": {},
   "outputs": [],
   "source": []
  },
  {
   "cell_type": "code",
   "execution_count": 2,
   "id": "07ffff37",
   "metadata": {},
   "outputs": [
    {
     "data": {
      "application/vnd.jupyter.widget-view+json": {
       "model_id": "6ddbbe614f6b4a7a90e887ff593f70d7",
       "version_major": 2,
       "version_minor": 0
      },
      "text/plain": [
       "Text(value='', description='Search:', placeholder='Enter search query')"
      ]
     },
     "metadata": {},
     "output_type": "display_data"
    },
    {
     "data": {
      "application/vnd.jupyter.widget-view+json": {
       "model_id": "6aa0a265e6ce49dfab81518088b0e00e",
       "version_major": 2,
       "version_minor": 0
      },
      "text/plain": [
       "Button(description='Search', style=ButtonStyle())"
      ]
     },
     "metadata": {},
     "output_type": "display_data"
    },
    {
     "name": "stdout",
     "output_type": "stream",
     "text": [
      "TRENDING !!!!!!\n"
     ]
    },
    {
     "data": {
      "application/vnd.jupyter.widget-view+json": {
       "model_id": "8f574303e1e64a0dab6390833b00491d",
       "version_major": 2,
       "version_minor": 0
      },
      "text/plain": [
       "Button(description='Tweets', style=ButtonStyle())"
      ]
     },
     "metadata": {},
     "output_type": "display_data"
    },
    {
     "data": {
      "application/vnd.jupyter.widget-view+json": {
       "model_id": "04432592b611426593a7c0f708a20f1c",
       "version_major": 2,
       "version_minor": 0
      },
      "text/plain": [
       "Button(description='Users', style=ButtonStyle())"
      ]
     },
     "metadata": {},
     "output_type": "display_data"
    }
   ],
   "source": [
    "import ipywidgets as widgets\n",
    "from IPython.display import display\n",
    "import sqlite3\n",
    "\n",
    "# Create a text box widget for search query\n",
    "search_box = widgets.Text(placeholder='Enter search query', description='Search:')\n",
    "display(search_box)\n",
    "\n",
    "# Define a function to handle search button click event or Enter key press event\n",
    "\"\"\"def run_search(query):\n",
    "    # Connect to the database\n",
    "    conn = sqlite3.connect('mydatabase.db')\n",
    "    c = conn.cursor()\n",
    "    \n",
    "    # Execute the SQL query\n",
    "    c.execute(query)\n",
    "    rows = c.fetchall()\n",
    "    \n",
    "    # Display the search results\n",
    "    for row in rows:\n",
    "        print(row)\n",
    "    \n",
    "    # Close the database connection\n",
    "    conn.close()\"\"\"\n",
    "\n",
    "# Create a button widget for search\n",
    "search_button = widgets.Button(description='Search')\n",
    "display(search_button)\n",
    "\n",
    "print(\"TRENDING !!!!!!\")\n",
    "button1 = widgets.Button(description='Tweets')\n",
    "button2 = widgets.Button(description='Users')\n",
    "\n",
    "display(button1)\n",
    "display(button2)\n",
    "# Define a function to handle button click event\n",
    "def on_search_button_click(button):\n",
    "    print(search_box.value)\n",
    "    #run_search(search_box.value)\n",
    "\n",
    "# Attach the function to the button click event\n",
    "search_button.on_click(on_search_button_click)\n",
    "\n",
    "# Define a function to handle Enter key press event\n",
    "def on_search_box_enter_key_press(event):\n",
    "    if event['key'] == 'Enter':\n",
    "        \n",
    "        print(search_box.value)\n",
    "        \n",
    "        #run_search(search_box.value)\n",
    "\n",
    "# Attach the function to the Enter key press event\n",
    "#search_box.on_event('keydown', on_search_box_enter_key_press)\n"
   ]
  },
  {
   "cell_type": "code",
   "execution_count": 16,
   "id": "931229d7",
   "metadata": {},
   "outputs": [],
   "source": [
    "import sqlite3"
   ]
  },
  {
   "cell_type": "code",
   "execution_count": 1,
   "id": "ede6215c",
   "metadata": {},
   "outputs": [
    {
     "data": {
      "application/vnd.jupyter.widget-view+json": {
       "model_id": "1df7b2b0f0fc40aba05f3f5e985dda16",
       "version_major": 2,
       "version_minor": 0
      },
      "text/plain": [
       "Text(value='', description='Search:', placeholder='Enter search query')"
      ]
     },
     "metadata": {},
     "output_type": "display_data"
    },
    {
     "data": {
      "application/vnd.jupyter.widget-view+json": {
       "model_id": "c8e6947fb2734809bf0ab7b739adb16f",
       "version_major": 2,
       "version_minor": 0
      },
      "text/plain": [
       "Button(description='Search', style=ButtonStyle())"
      ]
     },
     "metadata": {},
     "output_type": "display_data"
    },
    {
     "data": {
      "application/vnd.jupyter.widget-view+json": {
       "model_id": "170d2d3bab4449a9a0f3538f808676e4",
       "version_major": 2,
       "version_minor": 0
      },
      "text/plain": [
       "Button(description='Button 1', style=ButtonStyle())"
      ]
     },
     "metadata": {},
     "output_type": "display_data"
    },
    {
     "data": {
      "application/vnd.jupyter.widget-view+json": {
       "model_id": "ac5fada1e3ca490d9a08356237037fef",
       "version_major": 2,
       "version_minor": 0
      },
      "text/plain": [
       "Button(description='Button 2', style=ButtonStyle())"
      ]
     },
     "metadata": {},
     "output_type": "display_data"
    }
   ],
   "source": [
    "import ipywidgets as widgets\n",
    "import tkinter\n",
    "from tkinter import *\n",
    "from IPython.display import display, clear_output\n",
    "import sqlite3\n",
    "\n",
    "# Create a text box widget for search query\n",
    "search_box = widgets.Text(placeholder='Enter search query', description='Search:')\n",
    "display(search_box)\n",
    "\n",
    "# Define a list to hold the output widgets\n",
    "outputs = []\n",
    "\n",
    "# Define a function to handle search button click event or Enter key press event\n",
    "def run_search(query):\n",
    "    # Connect to the database\n",
    "    conn = sqlite3.connect('lahman2016.sqlite')\n",
    "    c = conn.cursor()\n",
    "    \n",
    "    # Build the SQL query\n",
    "    sql_query = f\"SELECT namefirst,namelast FROM Master WHERE weight > '{query}'\"\n",
    "    \n",
    "    # Execute the SQL query\n",
    "    c.execute(sql_query)\n",
    "    rows = c.fetchall()\n",
    "    \n",
    "    for out in outputs:\n",
    "        out.clear_output()\n",
    "    \n",
    "    # Create a new output widget for this search query\n",
    "    out = widgets.Output()\n",
    "    \n",
    "    with out:\n",
    "        # Display the search results\n",
    "        for row in rows:\n",
    "            print(row)\n",
    "    \n",
    "    # Append the output widget to the list\n",
    "    outputs.clear()\n",
    "    outputs.append(out)\n",
    "    \n",
    "    # Close the database connection\n",
    "    c.close()\n",
    "    conn.close()\n",
    "    \n",
    "    # Display all the output widgets in a vertical layout\n",
    "    display(widgets.VBox(outputs))\n",
    "\n",
    "# Create a search button widget\n",
    "search_button = widgets.Button(description='Search')\n",
    "display(search_button)\n",
    "\n",
    "# Define a function to handle search button click event\n",
    "def on_search_button_click(button):\n",
    "    run_search(search_box.value)\n",
    "\n",
    "# Attach the function to the search button click event\n",
    "search_button.on_click(on_search_button_click)\n",
    "\n",
    "# Create two more button widgets\n",
    "button1 = widgets.Button(description='Button 1')\n",
    "button2 = widgets.Button(description='Button 2')\n",
    "\n",
    "# Display the two buttons\n",
    "display(button1)\n",
    "display(button2)\n"
   ]
  },
  {
   "cell_type": "code",
   "execution_count": 10,
   "id": "07ccb79b",
   "metadata": {},
   "outputs": [],
   "source": [
    "def clear_frame():\n",
    "    for widgets in frame.winfo_children():\n",
    "        widgets.destroy()    \n",
    "    \n",
    "def retrieve_input():\n",
    "    x = e1.get()\n",
    "    clear_frame()\n",
    "    link = Label(frame, text=x,font=('Helveticabold', 15), fg=\"blue\", cursor=\"hand2\")\n",
    "    link.pack()\n",
    "    link.bind(\"<Button-1>\", lambda e: callback(x))\n",
    "    mainloop()\n",
    "\n",
    "def callback(uid):\n",
    "    clear_frame()\n",
    "    Label(frame, text=uid).grid(row=0)\n",
    "    mainloop()\n",
    "    \n",
    "    \n",
    "master = Tk()\n",
    "master.geometry(\"600x250\")\n",
    "frame = Frame(master,height=1,width=10)\n",
    "frame.pack()\n",
    "Label(frame, text='Search').grid(row=0)\n",
    "e1 = Entry(frame)\n",
    "e1.grid(row=0, column=1)\n",
    "\n",
    "buttonCommit=Button(frame, height=1, width=10, text=\"Search\", command=lambda: retrieve_input())\n",
    "buttonCommit.grid(row=1, column=1)\n",
    "mainloop()"
   ]
  },
  {
   "cell_type": "code",
   "execution_count": null,
   "id": "a6908523",
   "metadata": {},
   "outputs": [],
   "source": []
  },
  {
   "cell_type": "code",
   "execution_count": null,
   "id": "84c56f0b",
   "metadata": {},
   "outputs": [],
   "source": []
  }
 ],
 "metadata": {
  "kernelspec": {
   "display_name": "Python 3 (ipykernel)",
   "language": "python",
   "name": "python3"
  },
  "language_info": {
   "codemirror_mode": {
    "name": "ipython",
    "version": 3
   },
   "file_extension": ".py",
   "mimetype": "text/x-python",
   "name": "python",
   "nbconvert_exporter": "python",
   "pygments_lexer": "ipython3",
   "version": "3.9.13"
  }
 },
 "nbformat": 4,
 "nbformat_minor": 5
}
